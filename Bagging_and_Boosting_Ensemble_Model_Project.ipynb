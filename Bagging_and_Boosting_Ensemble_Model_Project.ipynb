{
  "nbformat": 4,
  "nbformat_minor": 0,
  "metadata": {
    "colab": {
      "name": "Bagging and Boosting Ensemble Model Project.ipynb",
      "provenance": [],
      "mount_file_id": "1qdVeKQuR47dMOLrbMGI3j1wb0lGsz2U4",
      "authorship_tag": "ABX9TyNJ+p7S5D/9Y0085AO/AwrK",
      "include_colab_link": true
    },
    "kernelspec": {
      "name": "python3",
      "display_name": "Python 3"
    },
    "language_info": {
      "name": "python"
    }
  },
  "cells": [
    {
      "cell_type": "markdown",
      "metadata": {
        "id": "view-in-github",
        "colab_type": "text"
      },
      "source": [
        "<a href=\"https://colab.research.google.com/github/rlalramengi/DT_And_Ensemble_Bagging_Boosting-Project/blob/main/Bagging_and_Boosting_Ensemble_Model_Project.ipynb\" target=\"_parent\"><img src=\"https://colab.research.google.com/assets/colab-badge.svg\" alt=\"Open In Colab\"/></a>"
      ]
    },
    {
      "cell_type": "markdown",
      "source": [
        "#Understanding the Business Problem\n"
      ],
      "metadata": {
        "id": "oY5JBt-BH0UI"
      }
    },
    {
      "cell_type": "markdown",
      "source": [
        ""
      ],
      "metadata": {
        "id": "AvAXW6S5FSC9"
      }
    },
    {
      "cell_type": "code",
      "source": [
        "import numpy as np\n",
        "import pandas as pd\n",
        "\n",
        "from matplotlib import pyplot as plt\n",
        "import seaborn as sns\n",
        "import warnings\n",
        "warnings.filterwarnings('ignore')\n",
        "\n",
        "\n",
        "from scipy.stats import zscore\n",
        "\n",
        "%matplotlib inline\n",
        "sns.set(style='white', color_codes=True)"
      ],
      "metadata": {
        "id": "2R22ZKCbFS7T"
      },
      "execution_count": null,
      "outputs": []
    },
    {
      "cell_type": "code",
      "source": [
        "data = pd.read_csv('/content/drive/MyDrive/DataSet/techis-ds-wiki-main/DS/Step 2-3 DT and Ensemble/03_Project/talking_data.csv')"
      ],
      "metadata": {
        "id": "hBOspZ8IFWGW"
      },
      "execution_count": null,
      "outputs": []
    },
    {
      "cell_type": "code",
      "source": [
        "data\n"
      ],
      "metadata": {
        "colab": {
          "base_uri": "https://localhost:8080/",
          "height": 468
        },
        "id": "BBcfdwqWHfbZ",
        "outputId": "32953062-9719-4c52-d78f-067b3fbb88ea"
      },
      "execution_count": null,
      "outputs": [
        {
          "output_type": "execute_result",
          "data": {
            "text/plain": [
              "           ip  app  device  os  channel           click_time attributed_time  \\\n",
              "0       87540   12       1  13      497  2017-11-07 09:30:38             NaN   \n",
              "1      105560   25       1  17      259  2017-11-07 13:40:27             NaN   \n",
              "2      101424   12       1  19      212  2017-11-07 18:05:24             NaN   \n",
              "3       94584   13       1  13      477  2017-11-07 04:58:08             NaN   \n",
              "4       68413   12       1   1      178  2017-11-09 09:00:09             NaN   \n",
              "...       ...  ...     ...  ..      ...                  ...             ...   \n",
              "99995  124883   11       1  19      122  2017-11-09 13:25:41             NaN   \n",
              "99996   85150    9       1  13      244  2017-11-07 11:25:43             NaN   \n",
              "99997   18839    3       1  13       19  2017-11-08 11:38:42             NaN   \n",
              "99998  114276   15       1  12      245  2017-11-08 17:55:21             NaN   \n",
              "99999  119349   14       1  15      401  2017-11-07 14:32:27             NaN   \n",
              "\n",
              "       is_attributed  \n",
              "0                  0  \n",
              "1                  0  \n",
              "2                  0  \n",
              "3                  0  \n",
              "4                  0  \n",
              "...              ...  \n",
              "99995              0  \n",
              "99996              0  \n",
              "99997              0  \n",
              "99998              0  \n",
              "99999              0  \n",
              "\n",
              "[100000 rows x 8 columns]"
            ],
            "text/html": [
              "\n",
              "  <div id=\"df-5ef7d4fc-49f3-4cb1-989b-96452d65ae66\">\n",
              "    <div class=\"colab-df-container\">\n",
              "      <div>\n",
              "<style scoped>\n",
              "    .dataframe tbody tr th:only-of-type {\n",
              "        vertical-align: middle;\n",
              "    }\n",
              "\n",
              "    .dataframe tbody tr th {\n",
              "        vertical-align: top;\n",
              "    }\n",
              "\n",
              "    .dataframe thead th {\n",
              "        text-align: right;\n",
              "    }\n",
              "</style>\n",
              "<table border=\"1\" class=\"dataframe\">\n",
              "  <thead>\n",
              "    <tr style=\"text-align: right;\">\n",
              "      <th></th>\n",
              "      <th>ip</th>\n",
              "      <th>app</th>\n",
              "      <th>device</th>\n",
              "      <th>os</th>\n",
              "      <th>channel</th>\n",
              "      <th>click_time</th>\n",
              "      <th>attributed_time</th>\n",
              "      <th>is_attributed</th>\n",
              "    </tr>\n",
              "  </thead>\n",
              "  <tbody>\n",
              "    <tr>\n",
              "      <th>0</th>\n",
              "      <td>87540</td>\n",
              "      <td>12</td>\n",
              "      <td>1</td>\n",
              "      <td>13</td>\n",
              "      <td>497</td>\n",
              "      <td>2017-11-07 09:30:38</td>\n",
              "      <td>NaN</td>\n",
              "      <td>0</td>\n",
              "    </tr>\n",
              "    <tr>\n",
              "      <th>1</th>\n",
              "      <td>105560</td>\n",
              "      <td>25</td>\n",
              "      <td>1</td>\n",
              "      <td>17</td>\n",
              "      <td>259</td>\n",
              "      <td>2017-11-07 13:40:27</td>\n",
              "      <td>NaN</td>\n",
              "      <td>0</td>\n",
              "    </tr>\n",
              "    <tr>\n",
              "      <th>2</th>\n",
              "      <td>101424</td>\n",
              "      <td>12</td>\n",
              "      <td>1</td>\n",
              "      <td>19</td>\n",
              "      <td>212</td>\n",
              "      <td>2017-11-07 18:05:24</td>\n",
              "      <td>NaN</td>\n",
              "      <td>0</td>\n",
              "    </tr>\n",
              "    <tr>\n",
              "      <th>3</th>\n",
              "      <td>94584</td>\n",
              "      <td>13</td>\n",
              "      <td>1</td>\n",
              "      <td>13</td>\n",
              "      <td>477</td>\n",
              "      <td>2017-11-07 04:58:08</td>\n",
              "      <td>NaN</td>\n",
              "      <td>0</td>\n",
              "    </tr>\n",
              "    <tr>\n",
              "      <th>4</th>\n",
              "      <td>68413</td>\n",
              "      <td>12</td>\n",
              "      <td>1</td>\n",
              "      <td>1</td>\n",
              "      <td>178</td>\n",
              "      <td>2017-11-09 09:00:09</td>\n",
              "      <td>NaN</td>\n",
              "      <td>0</td>\n",
              "    </tr>\n",
              "    <tr>\n",
              "      <th>...</th>\n",
              "      <td>...</td>\n",
              "      <td>...</td>\n",
              "      <td>...</td>\n",
              "      <td>...</td>\n",
              "      <td>...</td>\n",
              "      <td>...</td>\n",
              "      <td>...</td>\n",
              "      <td>...</td>\n",
              "    </tr>\n",
              "    <tr>\n",
              "      <th>99995</th>\n",
              "      <td>124883</td>\n",
              "      <td>11</td>\n",
              "      <td>1</td>\n",
              "      <td>19</td>\n",
              "      <td>122</td>\n",
              "      <td>2017-11-09 13:25:41</td>\n",
              "      <td>NaN</td>\n",
              "      <td>0</td>\n",
              "    </tr>\n",
              "    <tr>\n",
              "      <th>99996</th>\n",
              "      <td>85150</td>\n",
              "      <td>9</td>\n",
              "      <td>1</td>\n",
              "      <td>13</td>\n",
              "      <td>244</td>\n",
              "      <td>2017-11-07 11:25:43</td>\n",
              "      <td>NaN</td>\n",
              "      <td>0</td>\n",
              "    </tr>\n",
              "    <tr>\n",
              "      <th>99997</th>\n",
              "      <td>18839</td>\n",
              "      <td>3</td>\n",
              "      <td>1</td>\n",
              "      <td>13</td>\n",
              "      <td>19</td>\n",
              "      <td>2017-11-08 11:38:42</td>\n",
              "      <td>NaN</td>\n",
              "      <td>0</td>\n",
              "    </tr>\n",
              "    <tr>\n",
              "      <th>99998</th>\n",
              "      <td>114276</td>\n",
              "      <td>15</td>\n",
              "      <td>1</td>\n",
              "      <td>12</td>\n",
              "      <td>245</td>\n",
              "      <td>2017-11-08 17:55:21</td>\n",
              "      <td>NaN</td>\n",
              "      <td>0</td>\n",
              "    </tr>\n",
              "    <tr>\n",
              "      <th>99999</th>\n",
              "      <td>119349</td>\n",
              "      <td>14</td>\n",
              "      <td>1</td>\n",
              "      <td>15</td>\n",
              "      <td>401</td>\n",
              "      <td>2017-11-07 14:32:27</td>\n",
              "      <td>NaN</td>\n",
              "      <td>0</td>\n",
              "    </tr>\n",
              "  </tbody>\n",
              "</table>\n",
              "<p>100000 rows × 8 columns</p>\n",
              "</div>\n",
              "      <button class=\"colab-df-convert\" onclick=\"convertToInteractive('df-5ef7d4fc-49f3-4cb1-989b-96452d65ae66')\"\n",
              "              title=\"Convert this dataframe to an interactive table.\"\n",
              "              style=\"display:none;\">\n",
              "        \n",
              "  <svg xmlns=\"http://www.w3.org/2000/svg\" height=\"24px\"viewBox=\"0 0 24 24\"\n",
              "       width=\"24px\">\n",
              "    <path d=\"M0 0h24v24H0V0z\" fill=\"none\"/>\n",
              "    <path d=\"M18.56 5.44l.94 2.06.94-2.06 2.06-.94-2.06-.94-.94-2.06-.94 2.06-2.06.94zm-11 1L8.5 8.5l.94-2.06 2.06-.94-2.06-.94L8.5 2.5l-.94 2.06-2.06.94zm10 10l.94 2.06.94-2.06 2.06-.94-2.06-.94-.94-2.06-.94 2.06-2.06.94z\"/><path d=\"M17.41 7.96l-1.37-1.37c-.4-.4-.92-.59-1.43-.59-.52 0-1.04.2-1.43.59L10.3 9.45l-7.72 7.72c-.78.78-.78 2.05 0 2.83L4 21.41c.39.39.9.59 1.41.59.51 0 1.02-.2 1.41-.59l7.78-7.78 2.81-2.81c.8-.78.8-2.07 0-2.86zM5.41 20L4 18.59l7.72-7.72 1.47 1.35L5.41 20z\"/>\n",
              "  </svg>\n",
              "      </button>\n",
              "      \n",
              "  <style>\n",
              "    .colab-df-container {\n",
              "      display:flex;\n",
              "      flex-wrap:wrap;\n",
              "      gap: 12px;\n",
              "    }\n",
              "\n",
              "    .colab-df-convert {\n",
              "      background-color: #E8F0FE;\n",
              "      border: none;\n",
              "      border-radius: 50%;\n",
              "      cursor: pointer;\n",
              "      display: none;\n",
              "      fill: #1967D2;\n",
              "      height: 32px;\n",
              "      padding: 0 0 0 0;\n",
              "      width: 32px;\n",
              "    }\n",
              "\n",
              "    .colab-df-convert:hover {\n",
              "      background-color: #E2EBFA;\n",
              "      box-shadow: 0px 1px 2px rgba(60, 64, 67, 0.3), 0px 1px 3px 1px rgba(60, 64, 67, 0.15);\n",
              "      fill: #174EA6;\n",
              "    }\n",
              "\n",
              "    [theme=dark] .colab-df-convert {\n",
              "      background-color: #3B4455;\n",
              "      fill: #D2E3FC;\n",
              "    }\n",
              "\n",
              "    [theme=dark] .colab-df-convert:hover {\n",
              "      background-color: #434B5C;\n",
              "      box-shadow: 0px 1px 3px 1px rgba(0, 0, 0, 0.15);\n",
              "      filter: drop-shadow(0px 1px 2px rgba(0, 0, 0, 0.3));\n",
              "      fill: #FFFFFF;\n",
              "    }\n",
              "  </style>\n",
              "\n",
              "      <script>\n",
              "        const buttonEl =\n",
              "          document.querySelector('#df-5ef7d4fc-49f3-4cb1-989b-96452d65ae66 button.colab-df-convert');\n",
              "        buttonEl.style.display =\n",
              "          google.colab.kernel.accessAllowed ? 'block' : 'none';\n",
              "\n",
              "        async function convertToInteractive(key) {\n",
              "          const element = document.querySelector('#df-5ef7d4fc-49f3-4cb1-989b-96452d65ae66');\n",
              "          const dataTable =\n",
              "            await google.colab.kernel.invokeFunction('convertToInteractive',\n",
              "                                                     [key], {});\n",
              "          if (!dataTable) return;\n",
              "\n",
              "          const docLinkHtml = 'Like what you see? Visit the ' +\n",
              "            '<a target=\"_blank\" href=https://colab.research.google.com/notebooks/data_table.ipynb>data table notebook</a>'\n",
              "            + ' to learn more about interactive tables.';\n",
              "          element.innerHTML = '';\n",
              "          dataTable['output_type'] = 'display_data';\n",
              "          await google.colab.output.renderOutput(dataTable, element);\n",
              "          const docLink = document.createElement('div');\n",
              "          docLink.innerHTML = docLinkHtml;\n",
              "          element.appendChild(docLink);\n",
              "        }\n",
              "      </script>\n",
              "    </div>\n",
              "  </div>\n",
              "  "
            ]
          },
          "metadata": {},
          "execution_count": 143
        }
      ]
    },
    {
      "cell_type": "code",
      "source": [
        "data.head()"
      ],
      "metadata": {
        "colab": {
          "base_uri": "https://localhost:8080/",
          "height": 206
        },
        "id": "RsASUsYgHhkx",
        "outputId": "0c122817-6c89-4fa3-af42-7b58844c7739"
      },
      "execution_count": null,
      "outputs": [
        {
          "output_type": "execute_result",
          "data": {
            "text/plain": [
              "       ip  app  device  os  channel           click_time attributed_time  \\\n",
              "0   87540   12       1  13      497  2017-11-07 09:30:38             NaN   \n",
              "1  105560   25       1  17      259  2017-11-07 13:40:27             NaN   \n",
              "2  101424   12       1  19      212  2017-11-07 18:05:24             NaN   \n",
              "3   94584   13       1  13      477  2017-11-07 04:58:08             NaN   \n",
              "4   68413   12       1   1      178  2017-11-09 09:00:09             NaN   \n",
              "\n",
              "   is_attributed  \n",
              "0              0  \n",
              "1              0  \n",
              "2              0  \n",
              "3              0  \n",
              "4              0  "
            ],
            "text/html": [
              "\n",
              "  <div id=\"df-acfafc00-c8a5-4cd4-b293-47b1fdc58dc6\">\n",
              "    <div class=\"colab-df-container\">\n",
              "      <div>\n",
              "<style scoped>\n",
              "    .dataframe tbody tr th:only-of-type {\n",
              "        vertical-align: middle;\n",
              "    }\n",
              "\n",
              "    .dataframe tbody tr th {\n",
              "        vertical-align: top;\n",
              "    }\n",
              "\n",
              "    .dataframe thead th {\n",
              "        text-align: right;\n",
              "    }\n",
              "</style>\n",
              "<table border=\"1\" class=\"dataframe\">\n",
              "  <thead>\n",
              "    <tr style=\"text-align: right;\">\n",
              "      <th></th>\n",
              "      <th>ip</th>\n",
              "      <th>app</th>\n",
              "      <th>device</th>\n",
              "      <th>os</th>\n",
              "      <th>channel</th>\n",
              "      <th>click_time</th>\n",
              "      <th>attributed_time</th>\n",
              "      <th>is_attributed</th>\n",
              "    </tr>\n",
              "  </thead>\n",
              "  <tbody>\n",
              "    <tr>\n",
              "      <th>0</th>\n",
              "      <td>87540</td>\n",
              "      <td>12</td>\n",
              "      <td>1</td>\n",
              "      <td>13</td>\n",
              "      <td>497</td>\n",
              "      <td>2017-11-07 09:30:38</td>\n",
              "      <td>NaN</td>\n",
              "      <td>0</td>\n",
              "    </tr>\n",
              "    <tr>\n",
              "      <th>1</th>\n",
              "      <td>105560</td>\n",
              "      <td>25</td>\n",
              "      <td>1</td>\n",
              "      <td>17</td>\n",
              "      <td>259</td>\n",
              "      <td>2017-11-07 13:40:27</td>\n",
              "      <td>NaN</td>\n",
              "      <td>0</td>\n",
              "    </tr>\n",
              "    <tr>\n",
              "      <th>2</th>\n",
              "      <td>101424</td>\n",
              "      <td>12</td>\n",
              "      <td>1</td>\n",
              "      <td>19</td>\n",
              "      <td>212</td>\n",
              "      <td>2017-11-07 18:05:24</td>\n",
              "      <td>NaN</td>\n",
              "      <td>0</td>\n",
              "    </tr>\n",
              "    <tr>\n",
              "      <th>3</th>\n",
              "      <td>94584</td>\n",
              "      <td>13</td>\n",
              "      <td>1</td>\n",
              "      <td>13</td>\n",
              "      <td>477</td>\n",
              "      <td>2017-11-07 04:58:08</td>\n",
              "      <td>NaN</td>\n",
              "      <td>0</td>\n",
              "    </tr>\n",
              "    <tr>\n",
              "      <th>4</th>\n",
              "      <td>68413</td>\n",
              "      <td>12</td>\n",
              "      <td>1</td>\n",
              "      <td>1</td>\n",
              "      <td>178</td>\n",
              "      <td>2017-11-09 09:00:09</td>\n",
              "      <td>NaN</td>\n",
              "      <td>0</td>\n",
              "    </tr>\n",
              "  </tbody>\n",
              "</table>\n",
              "</div>\n",
              "      <button class=\"colab-df-convert\" onclick=\"convertToInteractive('df-acfafc00-c8a5-4cd4-b293-47b1fdc58dc6')\"\n",
              "              title=\"Convert this dataframe to an interactive table.\"\n",
              "              style=\"display:none;\">\n",
              "        \n",
              "  <svg xmlns=\"http://www.w3.org/2000/svg\" height=\"24px\"viewBox=\"0 0 24 24\"\n",
              "       width=\"24px\">\n",
              "    <path d=\"M0 0h24v24H0V0z\" fill=\"none\"/>\n",
              "    <path d=\"M18.56 5.44l.94 2.06.94-2.06 2.06-.94-2.06-.94-.94-2.06-.94 2.06-2.06.94zm-11 1L8.5 8.5l.94-2.06 2.06-.94-2.06-.94L8.5 2.5l-.94 2.06-2.06.94zm10 10l.94 2.06.94-2.06 2.06-.94-2.06-.94-.94-2.06-.94 2.06-2.06.94z\"/><path d=\"M17.41 7.96l-1.37-1.37c-.4-.4-.92-.59-1.43-.59-.52 0-1.04.2-1.43.59L10.3 9.45l-7.72 7.72c-.78.78-.78 2.05 0 2.83L4 21.41c.39.39.9.59 1.41.59.51 0 1.02-.2 1.41-.59l7.78-7.78 2.81-2.81c.8-.78.8-2.07 0-2.86zM5.41 20L4 18.59l7.72-7.72 1.47 1.35L5.41 20z\"/>\n",
              "  </svg>\n",
              "      </button>\n",
              "      \n",
              "  <style>\n",
              "    .colab-df-container {\n",
              "      display:flex;\n",
              "      flex-wrap:wrap;\n",
              "      gap: 12px;\n",
              "    }\n",
              "\n",
              "    .colab-df-convert {\n",
              "      background-color: #E8F0FE;\n",
              "      border: none;\n",
              "      border-radius: 50%;\n",
              "      cursor: pointer;\n",
              "      display: none;\n",
              "      fill: #1967D2;\n",
              "      height: 32px;\n",
              "      padding: 0 0 0 0;\n",
              "      width: 32px;\n",
              "    }\n",
              "\n",
              "    .colab-df-convert:hover {\n",
              "      background-color: #E2EBFA;\n",
              "      box-shadow: 0px 1px 2px rgba(60, 64, 67, 0.3), 0px 1px 3px 1px rgba(60, 64, 67, 0.15);\n",
              "      fill: #174EA6;\n",
              "    }\n",
              "\n",
              "    [theme=dark] .colab-df-convert {\n",
              "      background-color: #3B4455;\n",
              "      fill: #D2E3FC;\n",
              "    }\n",
              "\n",
              "    [theme=dark] .colab-df-convert:hover {\n",
              "      background-color: #434B5C;\n",
              "      box-shadow: 0px 1px 3px 1px rgba(0, 0, 0, 0.15);\n",
              "      filter: drop-shadow(0px 1px 2px rgba(0, 0, 0, 0.3));\n",
              "      fill: #FFFFFF;\n",
              "    }\n",
              "  </style>\n",
              "\n",
              "      <script>\n",
              "        const buttonEl =\n",
              "          document.querySelector('#df-acfafc00-c8a5-4cd4-b293-47b1fdc58dc6 button.colab-df-convert');\n",
              "        buttonEl.style.display =\n",
              "          google.colab.kernel.accessAllowed ? 'block' : 'none';\n",
              "\n",
              "        async function convertToInteractive(key) {\n",
              "          const element = document.querySelector('#df-acfafc00-c8a5-4cd4-b293-47b1fdc58dc6');\n",
              "          const dataTable =\n",
              "            await google.colab.kernel.invokeFunction('convertToInteractive',\n",
              "                                                     [key], {});\n",
              "          if (!dataTable) return;\n",
              "\n",
              "          const docLinkHtml = 'Like what you see? Visit the ' +\n",
              "            '<a target=\"_blank\" href=https://colab.research.google.com/notebooks/data_table.ipynb>data table notebook</a>'\n",
              "            + ' to learn more about interactive tables.';\n",
              "          element.innerHTML = '';\n",
              "          dataTable['output_type'] = 'display_data';\n",
              "          await google.colab.output.renderOutput(dataTable, element);\n",
              "          const docLink = document.createElement('div');\n",
              "          docLink.innerHTML = docLinkHtml;\n",
              "          element.appendChild(docLink);\n",
              "        }\n",
              "      </script>\n",
              "    </div>\n",
              "  </div>\n",
              "  "
            ]
          },
          "metadata": {},
          "execution_count": 144
        }
      ]
    },
    {
      "cell_type": "code",
      "source": [
        "data.tail()"
      ],
      "metadata": {
        "colab": {
          "base_uri": "https://localhost:8080/",
          "height": 250
        },
        "id": "fW94H8INHlim",
        "outputId": "33a52e30-fc5b-4b39-b723-fe28414c0a91"
      },
      "execution_count": null,
      "outputs": [
        {
          "output_type": "execute_result",
          "data": {
            "text/plain": [
              "           ip  app  device  os  channel           click_time attributed_time  \\\n",
              "99995  124883   11       1  19      122  2017-11-09 13:25:41             NaN   \n",
              "99996   85150    9       1  13      244  2017-11-07 11:25:43             NaN   \n",
              "99997   18839    3       1  13       19  2017-11-08 11:38:42             NaN   \n",
              "99998  114276   15       1  12      245  2017-11-08 17:55:21             NaN   \n",
              "99999  119349   14       1  15      401  2017-11-07 14:32:27             NaN   \n",
              "\n",
              "       is_attributed  \n",
              "99995              0  \n",
              "99996              0  \n",
              "99997              0  \n",
              "99998              0  \n",
              "99999              0  "
            ],
            "text/html": [
              "\n",
              "  <div id=\"df-8b87e0d3-35ea-4d05-9386-bf5f980614a0\">\n",
              "    <div class=\"colab-df-container\">\n",
              "      <div>\n",
              "<style scoped>\n",
              "    .dataframe tbody tr th:only-of-type {\n",
              "        vertical-align: middle;\n",
              "    }\n",
              "\n",
              "    .dataframe tbody tr th {\n",
              "        vertical-align: top;\n",
              "    }\n",
              "\n",
              "    .dataframe thead th {\n",
              "        text-align: right;\n",
              "    }\n",
              "</style>\n",
              "<table border=\"1\" class=\"dataframe\">\n",
              "  <thead>\n",
              "    <tr style=\"text-align: right;\">\n",
              "      <th></th>\n",
              "      <th>ip</th>\n",
              "      <th>app</th>\n",
              "      <th>device</th>\n",
              "      <th>os</th>\n",
              "      <th>channel</th>\n",
              "      <th>click_time</th>\n",
              "      <th>attributed_time</th>\n",
              "      <th>is_attributed</th>\n",
              "    </tr>\n",
              "  </thead>\n",
              "  <tbody>\n",
              "    <tr>\n",
              "      <th>99995</th>\n",
              "      <td>124883</td>\n",
              "      <td>11</td>\n",
              "      <td>1</td>\n",
              "      <td>19</td>\n",
              "      <td>122</td>\n",
              "      <td>2017-11-09 13:25:41</td>\n",
              "      <td>NaN</td>\n",
              "      <td>0</td>\n",
              "    </tr>\n",
              "    <tr>\n",
              "      <th>99996</th>\n",
              "      <td>85150</td>\n",
              "      <td>9</td>\n",
              "      <td>1</td>\n",
              "      <td>13</td>\n",
              "      <td>244</td>\n",
              "      <td>2017-11-07 11:25:43</td>\n",
              "      <td>NaN</td>\n",
              "      <td>0</td>\n",
              "    </tr>\n",
              "    <tr>\n",
              "      <th>99997</th>\n",
              "      <td>18839</td>\n",
              "      <td>3</td>\n",
              "      <td>1</td>\n",
              "      <td>13</td>\n",
              "      <td>19</td>\n",
              "      <td>2017-11-08 11:38:42</td>\n",
              "      <td>NaN</td>\n",
              "      <td>0</td>\n",
              "    </tr>\n",
              "    <tr>\n",
              "      <th>99998</th>\n",
              "      <td>114276</td>\n",
              "      <td>15</td>\n",
              "      <td>1</td>\n",
              "      <td>12</td>\n",
              "      <td>245</td>\n",
              "      <td>2017-11-08 17:55:21</td>\n",
              "      <td>NaN</td>\n",
              "      <td>0</td>\n",
              "    </tr>\n",
              "    <tr>\n",
              "      <th>99999</th>\n",
              "      <td>119349</td>\n",
              "      <td>14</td>\n",
              "      <td>1</td>\n",
              "      <td>15</td>\n",
              "      <td>401</td>\n",
              "      <td>2017-11-07 14:32:27</td>\n",
              "      <td>NaN</td>\n",
              "      <td>0</td>\n",
              "    </tr>\n",
              "  </tbody>\n",
              "</table>\n",
              "</div>\n",
              "      <button class=\"colab-df-convert\" onclick=\"convertToInteractive('df-8b87e0d3-35ea-4d05-9386-bf5f980614a0')\"\n",
              "              title=\"Convert this dataframe to an interactive table.\"\n",
              "              style=\"display:none;\">\n",
              "        \n",
              "  <svg xmlns=\"http://www.w3.org/2000/svg\" height=\"24px\"viewBox=\"0 0 24 24\"\n",
              "       width=\"24px\">\n",
              "    <path d=\"M0 0h24v24H0V0z\" fill=\"none\"/>\n",
              "    <path d=\"M18.56 5.44l.94 2.06.94-2.06 2.06-.94-2.06-.94-.94-2.06-.94 2.06-2.06.94zm-11 1L8.5 8.5l.94-2.06 2.06-.94-2.06-.94L8.5 2.5l-.94 2.06-2.06.94zm10 10l.94 2.06.94-2.06 2.06-.94-2.06-.94-.94-2.06-.94 2.06-2.06.94z\"/><path d=\"M17.41 7.96l-1.37-1.37c-.4-.4-.92-.59-1.43-.59-.52 0-1.04.2-1.43.59L10.3 9.45l-7.72 7.72c-.78.78-.78 2.05 0 2.83L4 21.41c.39.39.9.59 1.41.59.51 0 1.02-.2 1.41-.59l7.78-7.78 2.81-2.81c.8-.78.8-2.07 0-2.86zM5.41 20L4 18.59l7.72-7.72 1.47 1.35L5.41 20z\"/>\n",
              "  </svg>\n",
              "      </button>\n",
              "      \n",
              "  <style>\n",
              "    .colab-df-container {\n",
              "      display:flex;\n",
              "      flex-wrap:wrap;\n",
              "      gap: 12px;\n",
              "    }\n",
              "\n",
              "    .colab-df-convert {\n",
              "      background-color: #E8F0FE;\n",
              "      border: none;\n",
              "      border-radius: 50%;\n",
              "      cursor: pointer;\n",
              "      display: none;\n",
              "      fill: #1967D2;\n",
              "      height: 32px;\n",
              "      padding: 0 0 0 0;\n",
              "      width: 32px;\n",
              "    }\n",
              "\n",
              "    .colab-df-convert:hover {\n",
              "      background-color: #E2EBFA;\n",
              "      box-shadow: 0px 1px 2px rgba(60, 64, 67, 0.3), 0px 1px 3px 1px rgba(60, 64, 67, 0.15);\n",
              "      fill: #174EA6;\n",
              "    }\n",
              "\n",
              "    [theme=dark] .colab-df-convert {\n",
              "      background-color: #3B4455;\n",
              "      fill: #D2E3FC;\n",
              "    }\n",
              "\n",
              "    [theme=dark] .colab-df-convert:hover {\n",
              "      background-color: #434B5C;\n",
              "      box-shadow: 0px 1px 3px 1px rgba(0, 0, 0, 0.15);\n",
              "      filter: drop-shadow(0px 1px 2px rgba(0, 0, 0, 0.3));\n",
              "      fill: #FFFFFF;\n",
              "    }\n",
              "  </style>\n",
              "\n",
              "      <script>\n",
              "        const buttonEl =\n",
              "          document.querySelector('#df-8b87e0d3-35ea-4d05-9386-bf5f980614a0 button.colab-df-convert');\n",
              "        buttonEl.style.display =\n",
              "          google.colab.kernel.accessAllowed ? 'block' : 'none';\n",
              "\n",
              "        async function convertToInteractive(key) {\n",
              "          const element = document.querySelector('#df-8b87e0d3-35ea-4d05-9386-bf5f980614a0');\n",
              "          const dataTable =\n",
              "            await google.colab.kernel.invokeFunction('convertToInteractive',\n",
              "                                                     [key], {});\n",
              "          if (!dataTable) return;\n",
              "\n",
              "          const docLinkHtml = 'Like what you see? Visit the ' +\n",
              "            '<a target=\"_blank\" href=https://colab.research.google.com/notebooks/data_table.ipynb>data table notebook</a>'\n",
              "            + ' to learn more about interactive tables.';\n",
              "          element.innerHTML = '';\n",
              "          dataTable['output_type'] = 'display_data';\n",
              "          await google.colab.output.renderOutput(dataTable, element);\n",
              "          const docLink = document.createElement('div');\n",
              "          docLink.innerHTML = docLinkHtml;\n",
              "          element.appendChild(docLink);\n",
              "        }\n",
              "      </script>\n",
              "    </div>\n",
              "  </div>\n",
              "  "
            ]
          },
          "metadata": {},
          "execution_count": 145
        }
      ]
    },
    {
      "cell_type": "code",
      "source": [
        "data.columns"
      ],
      "metadata": {
        "colab": {
          "base_uri": "https://localhost:8080/"
        },
        "id": "t6zUIxPCHoFb",
        "outputId": "c9f5ac84-0cd2-4141-89ff-b9eefad2c1aa"
      },
      "execution_count": null,
      "outputs": [
        {
          "output_type": "execute_result",
          "data": {
            "text/plain": [
              "Index(['ip', 'app', 'device', 'os', 'channel', 'click_time', 'attributed_time',\n",
              "       'is_attributed'],\n",
              "      dtype='object')"
            ]
          },
          "metadata": {},
          "execution_count": 146
        }
      ]
    },
    {
      "cell_type": "code",
      "source": [
        "data.info()"
      ],
      "metadata": {
        "colab": {
          "base_uri": "https://localhost:8080/"
        },
        "id": "RVCbHMi1HtuD",
        "outputId": "4774cf04-0e23-4f7a-a724-3c2e4b156857"
      },
      "execution_count": null,
      "outputs": [
        {
          "output_type": "stream",
          "name": "stdout",
          "text": [
            "<class 'pandas.core.frame.DataFrame'>\n",
            "RangeIndex: 100000 entries, 0 to 99999\n",
            "Data columns (total 8 columns):\n",
            " #   Column           Non-Null Count   Dtype \n",
            "---  ------           --------------   ----- \n",
            " 0   ip               100000 non-null  int64 \n",
            " 1   app              100000 non-null  int64 \n",
            " 2   device           100000 non-null  int64 \n",
            " 3   os               100000 non-null  int64 \n",
            " 4   channel          100000 non-null  int64 \n",
            " 5   click_time       100000 non-null  object\n",
            " 6   attributed_time  227 non-null     object\n",
            " 7   is_attributed    100000 non-null  int64 \n",
            "dtypes: int64(6), object(2)\n",
            "memory usage: 6.1+ MB\n"
          ]
        }
      ]
    },
    {
      "cell_type": "markdown",
      "source": [
        "#**1. Explore the dataset for anomalies and missing values and take corrective actions if necessary.**"
      ],
      "metadata": {
        "id": "G9YnqeZhKTTJ"
      }
    },
    {
      "cell_type": "code",
      "source": [
        "data.isnull().values.any()"
      ],
      "metadata": {
        "colab": {
          "base_uri": "https://localhost:8080/"
        },
        "id": "-jGGIaJtKW98",
        "outputId": "c5e998f6-5d83-48db-fc0b-cc51ca0af5d9"
      },
      "execution_count": null,
      "outputs": [
        {
          "output_type": "execute_result",
          "data": {
            "text/plain": [
              "True"
            ]
          },
          "metadata": {},
          "execution_count": 148
        }
      ]
    },
    {
      "cell_type": "code",
      "source": [
        "print(\"Dimension of dataset:\", data.shape)\n",
        "print(\"Number of rows in the dataset:\", data.shape[0])\n",
        "print(\"Number of columns in the dataset:\", data.shape[1])"
      ],
      "metadata": {
        "colab": {
          "base_uri": "https://localhost:8080/"
        },
        "id": "HGiywhosMela",
        "outputId": "2731f4c7-3f3f-4288-bbd9-ab573ce3dece"
      },
      "execution_count": null,
      "outputs": [
        {
          "output_type": "stream",
          "name": "stdout",
          "text": [
            "Dimension of dataset: (100000, 8)\n",
            "Number of rows in the dataset: 100000\n",
            "Number of columns in the dataset: 8\n"
          ]
        }
      ]
    },
    {
      "cell_type": "code",
      "source": [
        "data[\"click_time\"].dtypes"
      ],
      "metadata": {
        "colab": {
          "base_uri": "https://localhost:8080/"
        },
        "id": "xEKJDsk-MjBy",
        "outputId": "363a0787-3e6a-423b-c6a5-872dcfa96d10"
      },
      "execution_count": null,
      "outputs": [
        {
          "output_type": "execute_result",
          "data": {
            "text/plain": [
              "dtype('O')"
            ]
          },
          "metadata": {},
          "execution_count": 150
        }
      ]
    },
    {
      "cell_type": "markdown",
      "source": [
        "#**2. Which column has maximum number of unique values present among all the available columns**"
      ],
      "metadata": {
        "id": "BoeGcE1CNxaK"
      }
    },
    {
      "cell_type": "code",
      "source": [
        "print(\"total number of unique values in ip colomn\",len(data[\"ip\"].unique()))"
      ],
      "metadata": {
        "colab": {
          "base_uri": "https://localhost:8080/"
        },
        "id": "i0vSIv-5MoQS",
        "outputId": "20c69e70-2670-426b-d945-a33055ca6b9a"
      },
      "execution_count": null,
      "outputs": [
        {
          "output_type": "stream",
          "name": "stdout",
          "text": [
            "total number of unique values in ip colomn 34857\n"
          ]
        }
      ]
    },
    {
      "cell_type": "code",
      "source": [
        "print(\"total number of unique values in app colomn\",len(data[\"app\"].unique()))\n"
      ],
      "metadata": {
        "colab": {
          "base_uri": "https://localhost:8080/"
        },
        "id": "iLiUuBqIMyaq",
        "outputId": "b647de59-5990-46a4-9928-a0601d5daf9f"
      },
      "execution_count": null,
      "outputs": [
        {
          "output_type": "stream",
          "name": "stdout",
          "text": [
            "total number of unique values in app colomn 161\n"
          ]
        }
      ]
    },
    {
      "cell_type": "code",
      "source": [
        "print(\"total number of unique values in device colomn\",len(data[\"device\"].unique()))\n"
      ],
      "metadata": {
        "colab": {
          "base_uri": "https://localhost:8080/"
        },
        "id": "CTe3-ux-M3id",
        "outputId": "ce042233-9c0f-4061-bf80-982e9cca261e"
      },
      "execution_count": null,
      "outputs": [
        {
          "output_type": "stream",
          "name": "stdout",
          "text": [
            "total number of unique values in device colomn 100\n"
          ]
        }
      ]
    },
    {
      "cell_type": "code",
      "source": [
        "print(\"total number of unique values in os colomn\",len(data[\"os\"].unique()))\n"
      ],
      "metadata": {
        "colab": {
          "base_uri": "https://localhost:8080/"
        },
        "id": "qYWIj4xzM8yk",
        "outputId": "9d021a99-8ec3-48d0-ff91-7562bd78bf4d"
      },
      "execution_count": null,
      "outputs": [
        {
          "output_type": "stream",
          "name": "stdout",
          "text": [
            "total number of unique values in os colomn 130\n"
          ]
        }
      ]
    },
    {
      "cell_type": "code",
      "source": [
        "print(\"total number of unique values in channel colomn\",len(data[\"channel\"].unique()))\n"
      ],
      "metadata": {
        "colab": {
          "base_uri": "https://localhost:8080/"
        },
        "id": "kCsSq7YwNCRh",
        "outputId": "eaa145f6-1291-4ece-d494-a4321a0c5373"
      },
      "execution_count": null,
      "outputs": [
        {
          "output_type": "stream",
          "name": "stdout",
          "text": [
            "total number of unique values in channel colomn 161\n"
          ]
        }
      ]
    },
    {
      "cell_type": "code",
      "source": [
        "print(\"total number of unique values in click_time colomn\",len(data[\"click_time\"].unique()))\n"
      ],
      "metadata": {
        "colab": {
          "base_uri": "https://localhost:8080/"
        },
        "id": "0RGpyABxNGSV",
        "outputId": "42a56c8e-fa8d-4e33-dcb5-96395216d1a2"
      },
      "execution_count": null,
      "outputs": [
        {
          "output_type": "stream",
          "name": "stdout",
          "text": [
            "total number of unique values in click_time colomn 80350\n"
          ]
        }
      ]
    },
    {
      "cell_type": "code",
      "source": [
        "print(\"total number of unique values in attributed_time colomn\",len(data[\"attributed_time\"].unique()))\n"
      ],
      "metadata": {
        "colab": {
          "base_uri": "https://localhost:8080/"
        },
        "id": "dCnJw9lMNLu_",
        "outputId": "69672a70-082d-4cf4-e6fa-33c97471aeb6"
      },
      "execution_count": null,
      "outputs": [
        {
          "output_type": "stream",
          "name": "stdout",
          "text": [
            "total number of unique values in attributed_time colomn 228\n"
          ]
        }
      ]
    },
    {
      "cell_type": "code",
      "source": [
        "print(\"total number of unique values in is_attributed colomn\",len(data[\"is_attributed\"].unique()))"
      ],
      "metadata": {
        "colab": {
          "base_uri": "https://localhost:8080/"
        },
        "id": "mMaBZ7XdNQqq",
        "outputId": "b76b53e8-5423-4f7a-99d2-28f0689c621e"
      },
      "execution_count": null,
      "outputs": [
        {
          "output_type": "stream",
          "name": "stdout",
          "text": [
            "total number of unique values in is_attributed colomn 2\n"
          ]
        }
      ]
    },
    {
      "cell_type": "markdown",
      "source": [
        "#\n",
        "**3. Use an appropriate technique to get rid of all the apps that are very rare (say which comprise of less                than 20% clicks) and plot the rest..** "
      ],
      "metadata": {
        "id": "lyuUxfc6Npju"
      }
    },
    {
      "cell_type": "code",
      "source": [
        "data[\"app\"]"
      ],
      "metadata": {
        "colab": {
          "base_uri": "https://localhost:8080/"
        },
        "id": "hBIX1g3pNflR",
        "outputId": "46ea450b-21c3-4fcf-fc99-e2b9ff22b120"
      },
      "execution_count": null,
      "outputs": [
        {
          "output_type": "execute_result",
          "data": {
            "text/plain": [
              "0        12\n",
              "1        25\n",
              "2        12\n",
              "3        13\n",
              "4        12\n",
              "         ..\n",
              "99995    11\n",
              "99996     9\n",
              "99997     3\n",
              "99998    15\n",
              "99999    14\n",
              "Name: app, Length: 100000, dtype: int64"
            ]
          },
          "metadata": {},
          "execution_count": 159
        }
      ]
    },
    {
      "cell_type": "code",
      "source": [
        "app_id=data[\"app\"].value_counts()\n",
        "print(app_id)\n",
        "total_sum=app_id.sum()\n",
        "print(\"total_sum\",total_sum)\n",
        "len(app_id)\n",
        "uaid=data[\"app\"].unique()"
      ],
      "metadata": {
        "colab": {
          "base_uri": "https://localhost:8080/"
        },
        "id": "DvyRl5u_OAmY",
        "outputId": "6106434d-152a-4707-d273-3e8637258803"
      },
      "execution_count": null,
      "outputs": [
        {
          "output_type": "stream",
          "name": "stdout",
          "text": [
            "3      18279\n",
            "12     13198\n",
            "2      11737\n",
            "9       8992\n",
            "15      8595\n",
            "       ...  \n",
            "145        1\n",
            "97         1\n",
            "96         1\n",
            "267        1\n",
            "261        1\n",
            "Name: app, Length: 161, dtype: int64\n",
            "total_sum 100000\n"
          ]
        }
      ]
    },
    {
      "cell_type": "code",
      "source": [
        "limit=total_sum*0.02\n",
        "X=app_id.values\n",
        "greater=[]\n",
        "less=[]\n",
        "for i in range(161):\n",
        "  if X[i]>limit:\n",
        "    y=uaid[i]\n",
        "    greater.append(y)\n",
        "  else:\n",
        "    y=uaid[i]\n",
        "    less.append(y)\n",
        "\n",
        "print(\"Frequent used app id \",greater)\n",
        "print(\"less used app id \",less)"
      ],
      "metadata": {
        "colab": {
          "base_uri": "https://localhost:8080/"
        },
        "id": "FHj4uxDoOFk7",
        "outputId": "5206a636-0bc1-4834-87ea-981f72852533"
      },
      "execution_count": null,
      "outputs": [
        {
          "output_type": "stream",
          "name": "stdout",
          "text": [
            "Frequent used app id  [12, 25, 13, 3, 1, 9, 2, 6, 20, 14]\n",
            "less used app id  [64, 7, 15, 18, 11, 8, 23, 21, 56, 28, 36, 22, 26, 17, 27, 10, 60, 58, 19, 32, 24, 4, 53, 125, 204, 5, 202, 70, 47, 29, 55, 103, 35, 83, 208, 146, 161, 46, 62, 65, 110, 42, 150, 266, 151, 148, 72, 310, 93, 94, 71, 43, 39, 170, 37, 68, 54, 107, 398, 160, 30, 183, 315, 45, 121, 38, 82, 134, 33, 233, 100, 44, 109, 59, 74, 61, 104, 66, 67, 273, 192, 50, 118, 372, 48, 232, 165, 91, 123, 88, 538, 49, 16, 105, 536, 216, 425, 117, 551, 99, 86, 101, 394, 78, 95, 181, 76, 34, 124, 548, 108, 85, 145, 79, 97, 75, 52, 215, 84, 96, 81, 139, 267, 80, 137, 119, 474, 158, 293, 122, 112, 149, 363, 271, 31, 171, 87, 168, 176, 347, 163, 190, 486, 133, 302, 268, 407, 116, 92, 115, 261]\n"
          ]
        }
      ]
    },
    {
      "cell_type": "code",
      "source": [
        "print(\"Column Names:\",data.columns.values)"
      ],
      "metadata": {
        "colab": {
          "base_uri": "https://localhost:8080/"
        },
        "id": "sudb7O3eO_lc",
        "outputId": "a2090e0c-54e1-42ab-dfc3-2b9d9d1f6224"
      },
      "execution_count": null,
      "outputs": [
        {
          "output_type": "stream",
          "name": "stdout",
          "text": [
            "Column Names: ['ip' 'app' 'device' 'os' 'channel' 'click_time' 'attributed_time'\n",
            " 'is_attributed']\n"
          ]
        }
      ]
    },
    {
      "cell_type": "code",
      "source": [
        "data.info()"
      ],
      "metadata": {
        "colab": {
          "base_uri": "https://localhost:8080/"
        },
        "id": "PUVtV68uPId8",
        "outputId": "548902bb-2194-4912-df66-dd9bc941ea8e"
      },
      "execution_count": null,
      "outputs": [
        {
          "output_type": "stream",
          "name": "stdout",
          "text": [
            "<class 'pandas.core.frame.DataFrame'>\n",
            "RangeIndex: 100000 entries, 0 to 99999\n",
            "Data columns (total 8 columns):\n",
            " #   Column           Non-Null Count   Dtype \n",
            "---  ------           --------------   ----- \n",
            " 0   ip               100000 non-null  int64 \n",
            " 1   app              100000 non-null  int64 \n",
            " 2   device           100000 non-null  int64 \n",
            " 3   os               100000 non-null  int64 \n",
            " 4   channel          100000 non-null  int64 \n",
            " 5   click_time       100000 non-null  object\n",
            " 6   attributed_time  227 non-null     object\n",
            " 7   is_attributed    100000 non-null  int64 \n",
            "dtypes: int64(6), object(2)\n",
            "memory usage: 6.1+ MB\n"
          ]
        }
      ]
    },
    {
      "cell_type": "code",
      "source": [
        "data.describe()"
      ],
      "metadata": {
        "colab": {
          "base_uri": "https://localhost:8080/",
          "height": 344
        },
        "id": "L3qqcYvQPLzN",
        "outputId": "ced32723-49c7-416c-f899-c4a468bcb579"
      },
      "execution_count": null,
      "outputs": [
        {
          "output_type": "execute_result",
          "data": {
            "text/plain": [
              "                  ip           app         device             os  \\\n",
              "count  100000.000000  100000.00000  100000.000000  100000.000000   \n",
              "mean    91255.879670      12.04788      21.771250      22.818280   \n",
              "std     69835.553661      14.94150     259.667767      55.943136   \n",
              "min         9.000000       1.00000       0.000000       0.000000   \n",
              "25%     40552.000000       3.00000       1.000000      13.000000   \n",
              "50%     79827.000000      12.00000       1.000000      18.000000   \n",
              "75%    118252.000000      15.00000       1.000000      19.000000   \n",
              "max    364757.000000     551.00000    3867.000000     866.000000   \n",
              "\n",
              "             channel  is_attributed  \n",
              "count  100000.000000  100000.000000  \n",
              "mean      268.832460       0.002270  \n",
              "std       129.724248       0.047591  \n",
              "min         3.000000       0.000000  \n",
              "25%       145.000000       0.000000  \n",
              "50%       258.000000       0.000000  \n",
              "75%       379.000000       0.000000  \n",
              "max       498.000000       1.000000  "
            ],
            "text/html": [
              "\n",
              "  <div id=\"df-42799198-f9f3-4d31-967b-f03a9cab9f82\">\n",
              "    <div class=\"colab-df-container\">\n",
              "      <div>\n",
              "<style scoped>\n",
              "    .dataframe tbody tr th:only-of-type {\n",
              "        vertical-align: middle;\n",
              "    }\n",
              "\n",
              "    .dataframe tbody tr th {\n",
              "        vertical-align: top;\n",
              "    }\n",
              "\n",
              "    .dataframe thead th {\n",
              "        text-align: right;\n",
              "    }\n",
              "</style>\n",
              "<table border=\"1\" class=\"dataframe\">\n",
              "  <thead>\n",
              "    <tr style=\"text-align: right;\">\n",
              "      <th></th>\n",
              "      <th>ip</th>\n",
              "      <th>app</th>\n",
              "      <th>device</th>\n",
              "      <th>os</th>\n",
              "      <th>channel</th>\n",
              "      <th>is_attributed</th>\n",
              "    </tr>\n",
              "  </thead>\n",
              "  <tbody>\n",
              "    <tr>\n",
              "      <th>count</th>\n",
              "      <td>100000.000000</td>\n",
              "      <td>100000.00000</td>\n",
              "      <td>100000.000000</td>\n",
              "      <td>100000.000000</td>\n",
              "      <td>100000.000000</td>\n",
              "      <td>100000.000000</td>\n",
              "    </tr>\n",
              "    <tr>\n",
              "      <th>mean</th>\n",
              "      <td>91255.879670</td>\n",
              "      <td>12.04788</td>\n",
              "      <td>21.771250</td>\n",
              "      <td>22.818280</td>\n",
              "      <td>268.832460</td>\n",
              "      <td>0.002270</td>\n",
              "    </tr>\n",
              "    <tr>\n",
              "      <th>std</th>\n",
              "      <td>69835.553661</td>\n",
              "      <td>14.94150</td>\n",
              "      <td>259.667767</td>\n",
              "      <td>55.943136</td>\n",
              "      <td>129.724248</td>\n",
              "      <td>0.047591</td>\n",
              "    </tr>\n",
              "    <tr>\n",
              "      <th>min</th>\n",
              "      <td>9.000000</td>\n",
              "      <td>1.00000</td>\n",
              "      <td>0.000000</td>\n",
              "      <td>0.000000</td>\n",
              "      <td>3.000000</td>\n",
              "      <td>0.000000</td>\n",
              "    </tr>\n",
              "    <tr>\n",
              "      <th>25%</th>\n",
              "      <td>40552.000000</td>\n",
              "      <td>3.00000</td>\n",
              "      <td>1.000000</td>\n",
              "      <td>13.000000</td>\n",
              "      <td>145.000000</td>\n",
              "      <td>0.000000</td>\n",
              "    </tr>\n",
              "    <tr>\n",
              "      <th>50%</th>\n",
              "      <td>79827.000000</td>\n",
              "      <td>12.00000</td>\n",
              "      <td>1.000000</td>\n",
              "      <td>18.000000</td>\n",
              "      <td>258.000000</td>\n",
              "      <td>0.000000</td>\n",
              "    </tr>\n",
              "    <tr>\n",
              "      <th>75%</th>\n",
              "      <td>118252.000000</td>\n",
              "      <td>15.00000</td>\n",
              "      <td>1.000000</td>\n",
              "      <td>19.000000</td>\n",
              "      <td>379.000000</td>\n",
              "      <td>0.000000</td>\n",
              "    </tr>\n",
              "    <tr>\n",
              "      <th>max</th>\n",
              "      <td>364757.000000</td>\n",
              "      <td>551.00000</td>\n",
              "      <td>3867.000000</td>\n",
              "      <td>866.000000</td>\n",
              "      <td>498.000000</td>\n",
              "      <td>1.000000</td>\n",
              "    </tr>\n",
              "  </tbody>\n",
              "</table>\n",
              "</div>\n",
              "      <button class=\"colab-df-convert\" onclick=\"convertToInteractive('df-42799198-f9f3-4d31-967b-f03a9cab9f82')\"\n",
              "              title=\"Convert this dataframe to an interactive table.\"\n",
              "              style=\"display:none;\">\n",
              "        \n",
              "  <svg xmlns=\"http://www.w3.org/2000/svg\" height=\"24px\"viewBox=\"0 0 24 24\"\n",
              "       width=\"24px\">\n",
              "    <path d=\"M0 0h24v24H0V0z\" fill=\"none\"/>\n",
              "    <path d=\"M18.56 5.44l.94 2.06.94-2.06 2.06-.94-2.06-.94-.94-2.06-.94 2.06-2.06.94zm-11 1L8.5 8.5l.94-2.06 2.06-.94-2.06-.94L8.5 2.5l-.94 2.06-2.06.94zm10 10l.94 2.06.94-2.06 2.06-.94-2.06-.94-.94-2.06-.94 2.06-2.06.94z\"/><path d=\"M17.41 7.96l-1.37-1.37c-.4-.4-.92-.59-1.43-.59-.52 0-1.04.2-1.43.59L10.3 9.45l-7.72 7.72c-.78.78-.78 2.05 0 2.83L4 21.41c.39.39.9.59 1.41.59.51 0 1.02-.2 1.41-.59l7.78-7.78 2.81-2.81c.8-.78.8-2.07 0-2.86zM5.41 20L4 18.59l7.72-7.72 1.47 1.35L5.41 20z\"/>\n",
              "  </svg>\n",
              "      </button>\n",
              "      \n",
              "  <style>\n",
              "    .colab-df-container {\n",
              "      display:flex;\n",
              "      flex-wrap:wrap;\n",
              "      gap: 12px;\n",
              "    }\n",
              "\n",
              "    .colab-df-convert {\n",
              "      background-color: #E8F0FE;\n",
              "      border: none;\n",
              "      border-radius: 50%;\n",
              "      cursor: pointer;\n",
              "      display: none;\n",
              "      fill: #1967D2;\n",
              "      height: 32px;\n",
              "      padding: 0 0 0 0;\n",
              "      width: 32px;\n",
              "    }\n",
              "\n",
              "    .colab-df-convert:hover {\n",
              "      background-color: #E2EBFA;\n",
              "      box-shadow: 0px 1px 2px rgba(60, 64, 67, 0.3), 0px 1px 3px 1px rgba(60, 64, 67, 0.15);\n",
              "      fill: #174EA6;\n",
              "    }\n",
              "\n",
              "    [theme=dark] .colab-df-convert {\n",
              "      background-color: #3B4455;\n",
              "      fill: #D2E3FC;\n",
              "    }\n",
              "\n",
              "    [theme=dark] .colab-df-convert:hover {\n",
              "      background-color: #434B5C;\n",
              "      box-shadow: 0px 1px 3px 1px rgba(0, 0, 0, 0.15);\n",
              "      filter: drop-shadow(0px 1px 2px rgba(0, 0, 0, 0.3));\n",
              "      fill: #FFFFFF;\n",
              "    }\n",
              "  </style>\n",
              "\n",
              "      <script>\n",
              "        const buttonEl =\n",
              "          document.querySelector('#df-42799198-f9f3-4d31-967b-f03a9cab9f82 button.colab-df-convert');\n",
              "        buttonEl.style.display =\n",
              "          google.colab.kernel.accessAllowed ? 'block' : 'none';\n",
              "\n",
              "        async function convertToInteractive(key) {\n",
              "          const element = document.querySelector('#df-42799198-f9f3-4d31-967b-f03a9cab9f82');\n",
              "          const dataTable =\n",
              "            await google.colab.kernel.invokeFunction('convertToInteractive',\n",
              "                                                     [key], {});\n",
              "          if (!dataTable) return;\n",
              "\n",
              "          const docLinkHtml = 'Like what you see? Visit the ' +\n",
              "            '<a target=\"_blank\" href=https://colab.research.google.com/notebooks/data_table.ipynb>data table notebook</a>'\n",
              "            + ' to learn more about interactive tables.';\n",
              "          element.innerHTML = '';\n",
              "          dataTable['output_type'] = 'display_data';\n",
              "          await google.colab.output.renderOutput(dataTable, element);\n",
              "          const docLink = document.createElement('div');\n",
              "          docLink.innerHTML = docLinkHtml;\n",
              "          element.appendChild(docLink);\n",
              "        }\n",
              "      </script>\n",
              "    </div>\n",
              "  </div>\n",
              "  "
            ]
          },
          "metadata": {},
          "execution_count": 164
        }
      ]
    },
    {
      "cell_type": "code",
      "source": [
        "data.dtypes"
      ],
      "metadata": {
        "colab": {
          "base_uri": "https://localhost:8080/"
        },
        "id": "uf3aD-GSPO_h",
        "outputId": "3c96c558-9b09-46bf-97cb-ba1aa9e4cec9"
      },
      "execution_count": null,
      "outputs": [
        {
          "output_type": "execute_result",
          "data": {
            "text/plain": [
              "ip                  int64\n",
              "app                 int64\n",
              "device              int64\n",
              "os                  int64\n",
              "channel             int64\n",
              "click_time         object\n",
              "attributed_time    object\n",
              "is_attributed       int64\n",
              "dtype: object"
            ]
          },
          "metadata": {},
          "execution_count": 165
        }
      ]
    },
    {
      "cell_type": "code",
      "source": [
        "data.click_time.unique()"
      ],
      "metadata": {
        "colab": {
          "base_uri": "https://localhost:8080/"
        },
        "id": "9K2RWTUyPSoG",
        "outputId": "688c180a-03ed-4eee-8989-5f2d1191e294"
      },
      "execution_count": null,
      "outputs": [
        {
          "output_type": "execute_result",
          "data": {
            "text/plain": [
              "array(['2017-11-07 09:30:38', '2017-11-07 13:40:27',\n",
              "       '2017-11-07 18:05:24', ..., '2017-11-09 04:21:28',\n",
              "       '2017-11-07 09:33:14', '2017-11-09 13:25:41'], dtype=object)"
            ]
          },
          "metadata": {},
          "execution_count": 166
        }
      ]
    },
    {
      "cell_type": "code",
      "source": [
        "from datetime import datetime\n",
        "data.click_time=pd.to_datetime(data.click_time)"
      ],
      "metadata": {
        "id": "L9d5mGcDUbfy"
      },
      "execution_count": null,
      "outputs": []
    },
    {
      "cell_type": "markdown",
      "source": [
        "#**4. By using Pandas derive new features such as - 'day_of_week' , 'day_of_year' , 'month' , and 'hour' as                  float/int datatypes using the 'click_time' column . Add the newly derived columns in original dataset.**\n"
      ],
      "metadata": {
        "id": "5PLuzSmbUtK3"
      }
    },
    {
      "cell_type": "code",
      "source": [
        "data['Month']=pd.DatetimeIndex(data['click_time']).month\n",
        "data['day_of_year']=pd.DatetimeIndex(data['click_time']).dayofyear\n",
        "data['day_of_week']=pd.DatetimeIndex(data['click_time']).dayofweek\n",
        "data['Hour']=pd.DatetimeIndex(data['click_time']).hour"
      ],
      "metadata": {
        "id": "YczTQX-iPWXS"
      },
      "execution_count": null,
      "outputs": []
    },
    {
      "cell_type": "code",
      "source": [
        "data=data.drop(['click_time','attributed_time'],axis=1)\n",
        "data.head()"
      ],
      "metadata": {
        "colab": {
          "base_uri": "https://localhost:8080/"
        },
        "id": "KLMnwtETPb7r",
        "outputId": "b5bcfb79-ea8f-4c77-9996-1a986c00b2c6"
      },
      "execution_count": null,
      "outputs": [
        {
          "output_type": "execute_result",
          "data": {
            "text/plain": [
              "       ip  app  device  os  channel  is_attributed  Month  day_of_year  \\\n",
              "0   87540   12       1  13      497              0     11          311   \n",
              "1  105560   25       1  17      259              0     11          311   \n",
              "2  101424   12       1  19      212              0     11          311   \n",
              "3   94584   13       1  13      477              0     11          311   \n",
              "4   68413   12       1   1      178              0     11          313   \n",
              "\n",
              "   day_of_week  Hour  \n",
              "0            1     9  \n",
              "1            1    13  \n",
              "2            1    18  \n",
              "3            1     4  \n",
              "4            3     9  "
            ],
            "text/html": [
              "\n",
              "  <div id=\"df-4dd0dde3-2e85-457e-8c38-1637ec6a6269\">\n",
              "    <div class=\"colab-df-container\">\n",
              "      <div>\n",
              "<style scoped>\n",
              "    .dataframe tbody tr th:only-of-type {\n",
              "        vertical-align: middle;\n",
              "    }\n",
              "\n",
              "    .dataframe tbody tr th {\n",
              "        vertical-align: top;\n",
              "    }\n",
              "\n",
              "    .dataframe thead th {\n",
              "        text-align: right;\n",
              "    }\n",
              "</style>\n",
              "<table border=\"1\" class=\"dataframe\">\n",
              "  <thead>\n",
              "    <tr style=\"text-align: right;\">\n",
              "      <th></th>\n",
              "      <th>ip</th>\n",
              "      <th>app</th>\n",
              "      <th>device</th>\n",
              "      <th>os</th>\n",
              "      <th>channel</th>\n",
              "      <th>is_attributed</th>\n",
              "      <th>Month</th>\n",
              "      <th>day_of_year</th>\n",
              "      <th>day_of_week</th>\n",
              "      <th>Hour</th>\n",
              "    </tr>\n",
              "  </thead>\n",
              "  <tbody>\n",
              "    <tr>\n",
              "      <th>0</th>\n",
              "      <td>87540</td>\n",
              "      <td>12</td>\n",
              "      <td>1</td>\n",
              "      <td>13</td>\n",
              "      <td>497</td>\n",
              "      <td>0</td>\n",
              "      <td>11</td>\n",
              "      <td>311</td>\n",
              "      <td>1</td>\n",
              "      <td>9</td>\n",
              "    </tr>\n",
              "    <tr>\n",
              "      <th>1</th>\n",
              "      <td>105560</td>\n",
              "      <td>25</td>\n",
              "      <td>1</td>\n",
              "      <td>17</td>\n",
              "      <td>259</td>\n",
              "      <td>0</td>\n",
              "      <td>11</td>\n",
              "      <td>311</td>\n",
              "      <td>1</td>\n",
              "      <td>13</td>\n",
              "    </tr>\n",
              "    <tr>\n",
              "      <th>2</th>\n",
              "      <td>101424</td>\n",
              "      <td>12</td>\n",
              "      <td>1</td>\n",
              "      <td>19</td>\n",
              "      <td>212</td>\n",
              "      <td>0</td>\n",
              "      <td>11</td>\n",
              "      <td>311</td>\n",
              "      <td>1</td>\n",
              "      <td>18</td>\n",
              "    </tr>\n",
              "    <tr>\n",
              "      <th>3</th>\n",
              "      <td>94584</td>\n",
              "      <td>13</td>\n",
              "      <td>1</td>\n",
              "      <td>13</td>\n",
              "      <td>477</td>\n",
              "      <td>0</td>\n",
              "      <td>11</td>\n",
              "      <td>311</td>\n",
              "      <td>1</td>\n",
              "      <td>4</td>\n",
              "    </tr>\n",
              "    <tr>\n",
              "      <th>4</th>\n",
              "      <td>68413</td>\n",
              "      <td>12</td>\n",
              "      <td>1</td>\n",
              "      <td>1</td>\n",
              "      <td>178</td>\n",
              "      <td>0</td>\n",
              "      <td>11</td>\n",
              "      <td>313</td>\n",
              "      <td>3</td>\n",
              "      <td>9</td>\n",
              "    </tr>\n",
              "  </tbody>\n",
              "</table>\n",
              "</div>\n",
              "      <button class=\"colab-df-convert\" onclick=\"convertToInteractive('df-4dd0dde3-2e85-457e-8c38-1637ec6a6269')\"\n",
              "              title=\"Convert this dataframe to an interactive table.\"\n",
              "              style=\"display:none;\">\n",
              "        \n",
              "  <svg xmlns=\"http://www.w3.org/2000/svg\" height=\"24px\"viewBox=\"0 0 24 24\"\n",
              "       width=\"24px\">\n",
              "    <path d=\"M0 0h24v24H0V0z\" fill=\"none\"/>\n",
              "    <path d=\"M18.56 5.44l.94 2.06.94-2.06 2.06-.94-2.06-.94-.94-2.06-.94 2.06-2.06.94zm-11 1L8.5 8.5l.94-2.06 2.06-.94-2.06-.94L8.5 2.5l-.94 2.06-2.06.94zm10 10l.94 2.06.94-2.06 2.06-.94-2.06-.94-.94-2.06-.94 2.06-2.06.94z\"/><path d=\"M17.41 7.96l-1.37-1.37c-.4-.4-.92-.59-1.43-.59-.52 0-1.04.2-1.43.59L10.3 9.45l-7.72 7.72c-.78.78-.78 2.05 0 2.83L4 21.41c.39.39.9.59 1.41.59.51 0 1.02-.2 1.41-.59l7.78-7.78 2.81-2.81c.8-.78.8-2.07 0-2.86zM5.41 20L4 18.59l7.72-7.72 1.47 1.35L5.41 20z\"/>\n",
              "  </svg>\n",
              "      </button>\n",
              "      \n",
              "  <style>\n",
              "    .colab-df-container {\n",
              "      display:flex;\n",
              "      flex-wrap:wrap;\n",
              "      gap: 12px;\n",
              "    }\n",
              "\n",
              "    .colab-df-convert {\n",
              "      background-color: #E8F0FE;\n",
              "      border: none;\n",
              "      border-radius: 50%;\n",
              "      cursor: pointer;\n",
              "      display: none;\n",
              "      fill: #1967D2;\n",
              "      height: 32px;\n",
              "      padding: 0 0 0 0;\n",
              "      width: 32px;\n",
              "    }\n",
              "\n",
              "    .colab-df-convert:hover {\n",
              "      background-color: #E2EBFA;\n",
              "      box-shadow: 0px 1px 2px rgba(60, 64, 67, 0.3), 0px 1px 3px 1px rgba(60, 64, 67, 0.15);\n",
              "      fill: #174EA6;\n",
              "    }\n",
              "\n",
              "    [theme=dark] .colab-df-convert {\n",
              "      background-color: #3B4455;\n",
              "      fill: #D2E3FC;\n",
              "    }\n",
              "\n",
              "    [theme=dark] .colab-df-convert:hover {\n",
              "      background-color: #434B5C;\n",
              "      box-shadow: 0px 1px 3px 1px rgba(0, 0, 0, 0.15);\n",
              "      filter: drop-shadow(0px 1px 2px rgba(0, 0, 0, 0.3));\n",
              "      fill: #FFFFFF;\n",
              "    }\n",
              "  </style>\n",
              "\n",
              "      <script>\n",
              "        const buttonEl =\n",
              "          document.querySelector('#df-4dd0dde3-2e85-457e-8c38-1637ec6a6269 button.colab-df-convert');\n",
              "        buttonEl.style.display =\n",
              "          google.colab.kernel.accessAllowed ? 'block' : 'none';\n",
              "\n",
              "        async function convertToInteractive(key) {\n",
              "          const element = document.querySelector('#df-4dd0dde3-2e85-457e-8c38-1637ec6a6269');\n",
              "          const dataTable =\n",
              "            await google.colab.kernel.invokeFunction('convertToInteractive',\n",
              "                                                     [key], {});\n",
              "          if (!dataTable) return;\n",
              "\n",
              "          const docLinkHtml = 'Like what you see? Visit the ' +\n",
              "            '<a target=\"_blank\" href=https://colab.research.google.com/notebooks/data_table.ipynb>data table notebook</a>'\n",
              "            + ' to learn more about interactive tables.';\n",
              "          element.innerHTML = '';\n",
              "          dataTable['output_type'] = 'display_data';\n",
              "          await google.colab.output.renderOutput(dataTable, element);\n",
              "          const docLink = document.createElement('div');\n",
              "          docLink.innerHTML = docLinkHtml;\n",
              "          element.appendChild(docLink);\n",
              "        }\n",
              "      </script>\n",
              "    </div>\n",
              "  </div>\n",
              "  "
            ]
          },
          "metadata": {},
          "execution_count": 169
        }
      ]
    },
    {
      "cell_type": "code",
      "source": [
        "data.dtypes"
      ],
      "metadata": {
        "colab": {
          "base_uri": "https://localhost:8080/"
        },
        "id": "4MKwj5R9Pf4d",
        "outputId": "3fbac9e6-440c-4e86-be54-fb3b546dc3f0"
      },
      "execution_count": null,
      "outputs": [
        {
          "output_type": "execute_result",
          "data": {
            "text/plain": [
              "ip               int64\n",
              "app              int64\n",
              "device           int64\n",
              "os               int64\n",
              "channel          int64\n",
              "is_attributed    int64\n",
              "Month            int64\n",
              "day_of_year      int64\n",
              "day_of_week      int64\n",
              "Hour             int64\n",
              "dtype: object"
            ]
          },
          "metadata": {},
          "execution_count": 170
        }
      ]
    },
    {
      "cell_type": "markdown",
      "source": [
        "#5. Divide the data into training and testing subsets into 80:20 ratio(Train_data = 80% , Testing_data = 20%) and\n",
        "     check the average download rates('is_attributed') for train and test data, scores should be comparable.**"
      ],
      "metadata": {
        "id": "Any0290BVklv"
      }
    },
    {
      "cell_type": "code",
      "source": [
        "data.is_attributed.unique()"
      ],
      "metadata": {
        "colab": {
          "base_uri": "https://localhost:8080/"
        },
        "id": "FirlTfYKPj-P",
        "outputId": "704404bc-ae14-453e-f2ad-bce48b8f1952"
      },
      "execution_count": null,
      "outputs": [
        {
          "output_type": "execute_result",
          "data": {
            "text/plain": [
              "array([0, 1])"
            ]
          },
          "metadata": {},
          "execution_count": 171
        }
      ]
    },
    {
      "cell_type": "code",
      "source": [
        "import seaborn as sns\n",
        "\n",
        "sns.set_style(\"whitegrid\");\n",
        "sns.FacetGrid(data, hue=\"is_attributed\", size=5.5) \\\n",
        "   .map(plt.scatter, \"ip\", \"app\") \\\n",
        "   .add_legend();\n",
        "plt.show();"
      ],
      "metadata": {
        "colab": {
          "base_uri": "https://localhost:8080/",
          "height": 401
        },
        "id": "kCLyRqkHPrKX",
        "outputId": "5024a1a3-94b7-41b2-f874-ab5b0bb8ef5f"
      },
      "execution_count": null,
      "outputs": [
        {
          "output_type": "display_data",
          "data": {
            "text/plain": [
              "<Figure size 480.925x396 with 1 Axes>"
            ],
            "image/png": "[encoded data removed]"
          },
          "metadata": {}
        }
      ]
    },
    {
      "cell_type": "code",
      "source": [
        "data.dtypes"
      ],
      "metadata": {
        "colab": {
          "base_uri": "https://localhost:8080/"
        },
        "id": "WRoMJaBzPudY",
        "outputId": "bcd11138-591c-4851-9da9-d5f3cc83e2c3"
      },
      "execution_count": null,
      "outputs": [
        {
          "output_type": "execute_result",
          "data": {
            "text/plain": [
              "ip               int64\n",
              "app              int64\n",
              "device           int64\n",
              "os               int64\n",
              "channel          int64\n",
              "is_attributed    int64\n",
              "Month            int64\n",
              "day_of_year      int64\n",
              "day_of_week      int64\n",
              "Hour             int64\n",
              "dtype: object"
            ]
          },
          "metadata": {},
          "execution_count": 173
        }
      ]
    },
    {
      "cell_type": "code",
      "source": [
        "for name in data.columns.values[:-1]:\n",
        "    sns.FacetGrid(data, hue=\"is_attributed\", size=5).map(sns.distplot, name).add_legend()\n",
        "plt.show()"
      ],
      "metadata": {
        "colab": {
          "base_uri": "https://localhost:8080/",
          "height": 1000
        },
        "id": "9RKoOBg2Py5w",
        "outputId": "b300855a-04cb-41c0-a79a-4d3c5fe49590"
      },
      "execution_count": null,
      "outputs": [
        {
          "output_type": "display_data",
          "data": {
            "text/plain": [
              "<Figure size 444.925x360 with 1 Axes>"
            ],
            "image/png": "[encoded data removed]"
          },
          "metadata": {}
        },
        {
          "output_type": "display_data",
          "data": {
            "text/plain": [
              "<Figure size 444.925x360 with 1 Axes>"
            ],
            "image/png": "[encoded data removed]"
          },
          "metadata": {}
        },
        {
          "output_type": "display_data",
          "data": {
            "text/plain": [
              "<Figure size 444.925x360 with 1 Axes>"
            ],
            "image/png": "[encoded data removed]"
          },
          "metadata": {}
        },
        {
          "output_type": "display_data",
          "data": {
            "text/plain": [
              "<Figure size 444.925x360 with 1 Axes>"
            ],
            "image/png": "[encoded data removed]"
          },
          "metadata": {}
        },
        {
          "output_type": "display_data",
          "data": {
            "text/plain": [
              "<Figure size 444.925x360 with 1 Axes>"
            ],
            "image/png": "[encoded data removed]"
          },
          "metadata": {}
        },
        {
          "output_type": "display_data",
          "data": {
            "text/plain": [
              "<Figure size 444.925x360 with 1 Axes>"
            ],
            "image/png": "[encoded data removed]"
          },
          "metadata": {}
        },
        {
          "output_type": "display_data",
          "data": {
            "text/plain": [
              "<Figure size 444.925x360 with 1 Axes>"
            ],
            "image/png": "[encoded data removed]"
          },
          "metadata": {}
        },
        {
          "output_type": "display_data",
          "data": {
            "text/plain": [
              "<Figure size 444.925x360 with 1 Axes>"
            ],
            "image/png": "[encoded data removed]"
          },
          "metadata": {}
        },
        {
          "output_type": "display_data",
          "data": {
            "text/plain": [
              "<Figure size 444.925x360 with 1 Axes>"
            ],
            "image/png": "[encoded data removed]"
          },
          "metadata": {}
        }
      ]
    },
    {
      "cell_type": "code",
      "source": [
        "X=data.drop(['is_attributed'],axis=1)\n",
        "y=data[\"is_attributed\"]"
      ],
      "metadata": {
        "id": "VrWuLruHP-y3"
      },
      "execution_count": null,
      "outputs": []
    },
    {
      "cell_type": "code",
      "source": [
        "from sklearn.model_selection import train_test_split\n",
        "X_train,X_test,y_train,y_test=train_test_split(X,y,train_size=0.8,random_state=8)\n",
        "X_train.shape,X_test.shape,y_train.shape,y_test.shape"
      ],
      "metadata": {
        "colab": {
          "base_uri": "https://localhost:8080/"
        },
        "id": "ZSqA8t4cQDoR",
        "outputId": "adfc1822-e0f9-479a-a93c-57a8ab7995df"
      },
      "execution_count": null,
      "outputs": [
        {
          "output_type": "execute_result",
          "data": {
            "text/plain": [
              "((80000, 9), (20000, 9), (80000,), (20000,))"
            ]
          },
          "metadata": {},
          "execution_count": 176
        }
      ]
    },
    {
      "cell_type": "markdown",
      "source": [
        "#6. Apply XGBoostClassifier with default parameters on training data and make first 10 prediction for Test data.          NOTE: Use y_pred = model.predict_proba(X_test) since we need probabilities to compute AUC.** "
      ],
      "metadata": {
        "id": "XF0JLd-6Vw55"
      }
    },
    {
      "cell_type": "code",
      "source": [
        "import xgboost as xgb\n",
        "from xgboost import XGBClassifier\n",
        "from xgboost import plot_importance\n",
        "from sklearn import metrics\n",
        "from sklearn.metrics import classification_report\n",
        "from sklearn.metrics import accuracy_score"
      ],
      "metadata": {
        "id": "t37OVFttQG9L"
      },
      "execution_count": null,
      "outputs": []
    },
    {
      "cell_type": "code",
      "source": [
        "model=XGBClassifier()\n",
        "model.fit(X_train, y_train)"
      ],
      "metadata": {
        "colab": {
          "base_uri": "https://localhost:8080/"
        },
        "id": "-EzLSe8AQJhP",
        "outputId": "b25e4835-48f0-42a6-d1fb-dd4b6e33b5a7"
      },
      "execution_count": null,
      "outputs": [
        {
          "output_type": "execute_result",
          "data": {
            "text/plain": [
              "XGBClassifier()"
            ]
          },
          "metadata": {},
          "execution_count": 178
        }
      ]
    },
    {
      "cell_type": "code",
      "source": [
        "y_pred = model.predict(X_test)\n",
        "y_pred"
      ],
      "metadata": {
        "colab": {
          "base_uri": "https://localhost:8080/"
        },
        "id": "uEgtbAncQNTb",
        "outputId": "e6633f71-678d-490f-989f-500ea999feb9"
      },
      "execution_count": null,
      "outputs": [
        {
          "output_type": "execute_result",
          "data": {
            "text/plain": [
              "array([0, 0, 0, ..., 0, 0, 0])"
            ]
          },
          "metadata": {},
          "execution_count": 179
        }
      ]
    },
    {
      "cell_type": "code",
      "source": [
        "y_pred[:10]"
      ],
      "metadata": {
        "colab": {
          "base_uri": "https://localhost:8080/"
        },
        "id": "_IIDaj0dQP1E",
        "outputId": "044ad9dd-f7c0-4062-84a1-40068cc93fc6"
      },
      "execution_count": null,
      "outputs": [
        {
          "output_type": "execute_result",
          "data": {
            "text/plain": [
              "array([0, 0, 0, 0, 0, 0, 0, 0, 0, 0])"
            ]
          },
          "metadata": {},
          "execution_count": 180
        }
      ]
    },
    {
      "cell_type": "markdown",
      "source": [
        "#7. On evaluating the predictions made by the model what is the AUC/ROC score with default hyperparameters.**"
      ],
      "metadata": {
        "id": "mX7oe1-lXHGA"
      }
    },
    {
      "cell_type": "code",
      "source": [
        "from sklearn.metrics import accuracy_score\n",
        "\n",
        "print('The accuracy of the Xgboost is {}%'.format(round(accuracy_score(y_pred,y_test)*100,2)))\n"
      ],
      "metadata": {
        "colab": {
          "base_uri": "https://localhost:8080/"
        },
        "id": "c_LuB_XRQTAe",
        "outputId": "bb253a98-102f-44bb-f8b9-447defc9c6ad"
      },
      "execution_count": null,
      "outputs": [
        {
          "output_type": "stream",
          "name": "stdout",
          "text": [
            "The accuracy of the Xgboost is 99.81%\n"
          ]
        }
      ]
    },
    {
      "cell_type": "code",
      "source": [
        "y_pred = model.predict_proba(X_test)\n",
        "y_pred"
      ],
      "metadata": {
        "colab": {
          "base_uri": "https://localhost:8080/"
        },
        "id": "wYn6WvSWQZi4",
        "outputId": "b033ed18-d7e1-4124-ae48-7f68362a8785"
      },
      "execution_count": null,
      "outputs": [
        {
          "output_type": "execute_result",
          "data": {
            "text/plain": [
              "array([[9.9988085e-01, 1.1916077e-04],\n",
              "       [9.9959576e-01, 4.0423786e-04],\n",
              "       [9.9975532e-01, 2.4467913e-04],\n",
              "       ...,\n",
              "       [9.9986601e-01, 1.3398939e-04],\n",
              "       [9.9966645e-01, 3.3351779e-04],\n",
              "       [9.9983305e-01, 1.6693842e-04]], dtype=float32)"
            ]
          },
          "metadata": {},
          "execution_count": 182
        }
      ]
    },
    {
      "cell_type": "markdown",
      "source": [
        "#8. Compute feature importance score and name the top 5 features/columns .**"
      ],
      "metadata": {
        "id": "pGZMmSSiXCf9"
      }
    },
    {
      "cell_type": "code",
      "source": [
        "from sklearn.ensemble import BaggingClassifier\n",
        "\n",
        "bgcl = BaggingClassifier(n_estimators=10, max_samples= .7, bootstrap=True)\n",
        "bgcl = bgcl.fit(X_train, y_train)\n",
        "test_pred = bgcl.predict(X_test)\n",
        "bgcl_score=bgcl.score(X_test, y_test)\n",
        "print(\"The Bagging classifier model accuracy is {}\".format(bgcl_score))\n",
        "print(\"The confusion matrix of Bagging classifier model is\")\n",
        "print(metrics.confusion_matrix(y_test,test_pred))"
      ],
      "metadata": {
        "colab": {
          "base_uri": "https://localhost:8080/"
        },
        "id": "PepkKsDRQig0",
        "outputId": "d6b72c69-2f38-44b9-835c-a5dd8b2e6f09"
      },
      "execution_count": null,
      "outputs": [
        {
          "output_type": "stream",
          "name": "stdout",
          "text": [
            "The Bagging classifier model accuracy is 0.99785\n",
            "The confusion matrix of Bagging classifier model is\n",
            "[[19950     8]\n",
            " [   35     7]]\n"
          ]
        }
      ]
    },
    {
      "cell_type": "code",
      "source": [
        "test_pred=bgcl.predict_proba(X_test)\n",
        "test_pred"
      ],
      "metadata": {
        "colab": {
          "base_uri": "https://localhost:8080/"
        },
        "id": "kwmTgm_iQnoP",
        "outputId": "04cce788-297c-4267-c40a-821ca085dfae"
      },
      "execution_count": null,
      "outputs": [
        {
          "output_type": "execute_result",
          "data": {
            "text/plain": [
              "array([[1., 0.],\n",
              "       [1., 0.],\n",
              "       [1., 0.],\n",
              "       ...,\n",
              "       [1., 0.],\n",
              "       [1., 0.],\n",
              "       [1., 0.]])"
            ]
          },
          "metadata": {},
          "execution_count": 184
        }
      ]
    },
    {
      "cell_type": "markdown",
      "source": [
        "#10.  On the basis of AUC/ROC score which one will you choose from BaggingClassifier and XGBoostClassifier and              why?What does AUC/ROC score signifies?"
      ],
      "metadata": {
        "id": "3Ew_rUGYWVkK"
      }
    },
    {
      "cell_type": "code",
      "source": [
        "auc=metrics.roc_auc_score(y_test,y_pred[:,1])\n",
        "print('AUC/ROC = {} %'.format(auc*100))"
      ],
      "metadata": {
        "colab": {
          "base_uri": "https://localhost:8080/"
        },
        "id": "lfnWsEXgQqO3",
        "outputId": "fa562d78-86d4-4ebe-bd69-f966aa3e11d0"
      },
      "execution_count": null,
      "outputs": [
        {
          "output_type": "stream",
          "name": "stdout",
          "text": [
            "AUC/ROC = 92.73539910001479 %\n"
          ]
        }
      ]
    },
    {
      "cell_type": "markdown",
      "source": [
        "#11.  What is the accuracy for BaggingClassifier and XGBoostClassifier?()"
      ],
      "metadata": {
        "id": "yJBTLG7aWlUd"
      }
    },
    {
      "cell_type": "markdown",
      "source": [
        ""
      ],
      "metadata": {
        "id": "8OnLVDQtWk4e"
      }
    },
    {
      "cell_type": "code",
      "source": [
        "roc=metrics.roc_auc_score(y_test,test_pred[:,1])\n",
        "print('AUC/ROC = {} %'.format(roc*100))"
      ],
      "metadata": {
        "colab": {
          "base_uri": "https://localhost:8080/"
        },
        "id": "i722U61eQtX_",
        "outputId": "e7f19a5d-ffda-4a80-ef37-430a59af6185"
      },
      "execution_count": null,
      "outputs": [
        {
          "output_type": "stream",
          "name": "stdout",
          "text": [
            "AUC/ROC = 85.39468598342233 %\n"
          ]
        }
      ]
    }
  ]
}